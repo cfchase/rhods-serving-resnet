{
 "cells": [
  {
   "cell_type": "markdown",
   "id": "f73046ff",
   "metadata": {},
   "source": [
    "# REST Inference"
   ]
  },
  {
   "cell_type": "markdown",
   "id": "2e7eb303-2ded-41b5-91db-8b8a8860d2ac",
   "metadata": {},
   "source": [
    "### Setup"
   ]
  },
  {
   "cell_type": "code",
   "execution_count": null,
   "id": "7a28d902-b9fc-464f-bea0-772373d38f44",
   "metadata": {},
   "outputs": [],
   "source": [
    "!pip install opencv-python-headless"
   ]
  },
  {
   "cell_type": "code",
   "execution_count": null,
   "id": "1d17b252-7827-4cae-adb0-f98c9d80bcd7",
   "metadata": {},
   "outputs": [],
   "source": [
    "infer_url = 'http://modelmesh-serving:8008/v2/models/resnet/infer'\n",
    "model_name = 'resnet'\n",
    "image_path='images/bee.jpeg'\n",
    "input_name = \"gpu_0/data_0\""
   ]
  },
  {
   "cell_type": "markdown",
   "id": "2f645a20-61cc-4180-a642-3e875f04b9a2",
   "metadata": {},
   "source": [
    "### Preprocess image"
   ]
  },
  {
   "cell_type": "code",
   "execution_count": null,
   "id": "ce3eacd4-5dda-4311-9e9d-35a1bc6e137f",
   "metadata": {},
   "outputs": [],
   "source": [
    "import numpy as np\n",
    "import cv2\n",
    "\n",
    "def normalize(img_data):\n",
    "    \"\"\"Normalize to adjust to model training dataset\n",
    "    \"\"\"\n",
    "    mean_vec = np.array([0.485, 0.456, 0.406])\n",
    "    stddev_vec = np.array([0.229, 0.224, 0.225])\n",
    "    norm_img_data = np.zeros(img_data.shape).astype('float32')\n",
    "    for i in range(img_data.shape[0]):\n",
    "        # for each pixel in each channel, divide the value by 255 to get value between [0, 1] and then normalize\n",
    "        norm_img_data[i,:,:] = (img_data[i,:,:]/255 - mean_vec[i]) / stddev_vec[i]\n",
    "    return norm_img_data\n",
    "\n",
    "\n",
    "\n",
    "def preprocess(img_data, size=224):\n",
    "    img = np.frombuffer(img_data, dtype=np.uint8)\n",
    "    img = cv2.imdecode(img, cv2.IMREAD_COLOR)  # BGR format\n",
    "\n",
    "    # format of data is HWC\n",
    "    # add image preprocessing if needed by the model\n",
    "    img = cv2.resize(img, (224, 224))\n",
    "    img = img.astype('float32')\n",
    "    #convert to NCHW\n",
    "    img = img.transpose(2,0,1)\n",
    "\n",
    "    norm_img_data = normalize(img)\n",
    "    reshaped_img_data = norm_img_data.reshape(1,3,size,size)\n",
    "    # print(path, reshaped_img_data.shape, \"; data range:\",np.amin(reshaped_img_data),\":\",np.amax(reshaped_img_data))\n",
    "    return reshaped_img_data\n",
    "\n",
    "def getJpeg(path):\n",
    "    with open(path, mode='rb') as file:\n",
    "        file_content = file.read()\n",
    "\n",
    "    return file_content"
   ]
  },
  {
   "cell_type": "code",
   "execution_count": null,
   "id": "e1bd11c7-9986-4564-a87d-5851cf9f8985",
   "metadata": {},
   "outputs": [],
   "source": [
    "img_bytes = getJpeg(image_path)\n",
    "img_data = preprocess(img_bytes)"
   ]
  },
  {
   "cell_type": "code",
   "execution_count": null,
   "id": "67c1d001-ff99-414a-95d4-5729d5849298",
   "metadata": {},
   "outputs": [],
   "source": [
    "# import json\n",
    "import time\n",
    "import requests\n",
    "\n",
    "im_json = img_data.tolist() # Converts the array to a nested list\n",
    "\n",
    "data = {\n",
    "    \"inputs\": [\n",
    "        {\n",
    "         \"name\": input_name,\n",
    "         \"shape\": [1,3,224,224],\n",
    "         \"datatype\": \"FP32\",\n",
    "         \"data\": im_json\n",
    "        }\n",
    "    ]\n",
    "}\n",
    "\n",
    "\n",
    "t1 = time.time()\n",
    "response = requests.post(infer_url, json=data)\n",
    "t2 = time.time()\n",
    "inference_time = t2-t1\n",
    "print(f\"Request took {inference_time}\")\n",
    "raw_output = response.json()"
   ]
  },
  {
   "cell_type": "code",
   "execution_count": null,
   "id": "01aea74a-994f-4f7b-8138-78b97956752c",
   "metadata": {},
   "outputs": [],
   "source": [
    "import classes\n",
    "\n",
    "response_dict = response.json()\n",
    "arr = np.array(response_dict['outputs'][0]['data'])\n",
    "max = np.argmax(arr)\n",
    "print(\"Highest score: class {} with score {}\".format(max, arr[max]))\n",
    "print(\"Detected class name: {}\".format(classes.imagenet_classes[max]))"
   ]
  },
  {
   "cell_type": "code",
   "execution_count": null,
   "id": "f0a68b67-b109-4a2f-b097-092f4a4d25ce",
   "metadata": {},
   "outputs": [],
   "source": []
  }
 ],
 "metadata": {
  "kernelspec": {
   "display_name": "Python 3.9.16",
   "language": "python",
   "name": "python3"
  },
  "language_info": {
   "codemirror_mode": {
    "name": "ipython",
    "version": 3
   },
   "file_extension": ".py",
   "mimetype": "text/x-python",
   "name": "python",
   "nbconvert_exporter": "python",
   "pygments_lexer": "ipython3",
   "version": "3.9.16"
  }
 },
 "nbformat": 4,
 "nbformat_minor": 5
}
