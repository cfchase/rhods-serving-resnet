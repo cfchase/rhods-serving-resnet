{
 "cells": [
  {
   "cell_type": "markdown",
   "id": "f73046ff",
   "metadata": {},
   "source": [
    "# REST Inference"
   ]
  },
  {
   "cell_type": "markdown",
   "id": "2e7eb303-2ded-41b5-91db-8b8a8860d2ac",
   "metadata": {},
   "source": [
    "### Setup"
   ]
  },
  {
   "cell_type": "code",
   "execution_count": null,
   "id": "7a28d902-b9fc-464f-bea0-772373d38f44",
   "metadata": {},
   "outputs": [],
   "source": [
    "!pip install opencv-python-headless"
   ]
  },
  {
   "cell_type": "code",
   "execution_count": null,
   "id": "1d17b252-7827-4cae-adb0-f98c9d80bcd7",
   "metadata": {},
   "outputs": [],
   "source": [
    "infer_url = 'http://modelmesh-serving:8008/v2/models/resnet/infer'"
   ]
  },
  {
   "cell_type": "markdown",
   "id": "2f645a20-61cc-4180-a642-3e875f04b9a2",
   "metadata": {},
   "source": [
    "### Image Preprocessing Functions\n",
    "\n",
    "First, we need to preprocess and format the image."
   ]
  },
  {
   "cell_type": "code",
   "execution_count": null,
   "id": "ce3eacd4-5dda-4311-9e9d-35a1bc6e137f",
   "metadata": {},
   "outputs": [],
   "source": [
    "import numpy as np\n",
    "import cv2\n",
    "\n",
    "def normalize(img_data):\n",
    "    \"\"\"Normalize to adjust to model training dataset\n",
    "    \"\"\"\n",
    "    mean_vec = np.array([0.485, 0.456, 0.406])\n",
    "    stddev_vec = np.array([0.229, 0.224, 0.225])\n",
    "    norm_img_data = np.zeros(img_data.shape).astype('float32')\n",
    "    for i in range(img_data.shape[0]):\n",
    "        # for each pixel in each channel, divide the value by 255 to get value between [0, 1] and then normalize\n",
    "        norm_img_data[i,:,:] = (img_data[i,:,:]/255 - mean_vec[i]) / stddev_vec[i]\n",
    "    return norm_img_data\n",
    "\n",
    "\n",
    "\n",
    "def preprocess(img_data, size=224):\n",
    "    img = np.frombuffer(img_data, dtype=np.uint8)\n",
    "    img = cv2.imdecode(img, cv2.IMREAD_COLOR)  # BGR format\n",
    "\n",
    "    # format of data is HWC\n",
    "    # add image preprocessing if needed by the model\n",
    "    img = cv2.resize(img, (224, 224))\n",
    "    img = img.astype('float32')\n",
    "    #convert to NCHW\n",
    "    img = img.transpose(2,0,1)\n",
    "\n",
    "    norm_img_data = normalize(img)\n",
    "    reshaped_img_data = norm_img_data.reshape(1,3,size,size)\n",
    "    # print(path, reshaped_img_data.shape, \"; data range:\",np.amin(reshaped_img_data),\":\",np.amax(reshaped_img_data))\n",
    "    return reshaped_img_data\n",
    "\n",
    "def getJpeg(path):\n",
    "    with open(path, mode='rb') as file:\n",
    "        file_content = file.read()\n",
    "\n",
    "    return file_content"
   ]
  },
  {
   "cell_type": "markdown",
   "id": "c5835f05-7fe2-4d51-bed5-3aa9f2b380fe",
   "metadata": {},
   "source": [
    "### Request Function\n",
    "\n",
    "Builds and submits our gRPC request."
   ]
  },
  {
   "cell_type": "code",
   "execution_count": null,
   "id": "67c1d001-ff99-414a-95d4-5729d5849298",
   "metadata": {},
   "outputs": [],
   "source": [
    "# import json\n",
    "import time\n",
    "import requests\n",
    "import classes\n",
    "\n",
    "def rhods_rest_request(img_data):\n",
    "    im_json = img_data.tolist() # Converts the array to a nested list\n",
    "\n",
    "    data = {\n",
    "        \"inputs\": [\n",
    "            {\n",
    "             \"name\": \"gpu_0/data_0\",\n",
    "             \"shape\": [1,3,224,224],\n",
    "             \"datatype\": \"FP32\",\n",
    "             \"data\": im_json\n",
    "            }\n",
    "        ]\n",
    "    }\n",
    "\n",
    "\n",
    "    t1 = time.time()\n",
    "    response = requests.post(infer_url, json=data)\n",
    "    t2 = time.time()\n",
    "    inference_time = t2-t1\n",
    "\n",
    "    raw_output = response.json()    \n",
    "    response_dict = response.json()\n",
    "    result_arr = np.array(response_dict['outputs'][0]['data'])\n",
    "    max = np.argmax(result_arr)\n",
    "\n",
    "    return classes.imagenet_classes[max], result_arr[max]"
   ]
  },
  {
   "cell_type": "code",
   "execution_count": null,
   "id": "f0a68b67-b109-4a2f-b097-092f4a4d25ce",
   "metadata": {},
   "outputs": [],
   "source": [
    "from IPython.display import Image\n",
    "import classes\n",
    "\n",
    "image_path = 'images/bee.jpeg'\n",
    "Image(filename=image_path)\n",
    "\n",
    "img_bytes = getJpeg(image_path)\n",
    "img_data = preprocess(img_bytes)\n",
    "image_classification, score = rhods_rest_request(img_data)\n",
    "\n",
    "print(f\"class: {image_classification}\")\n",
    "print(f\"score: {score}\")\n",
    "Image(filename=image_path)"
   ]
  },
  {
   "cell_type": "code",
   "execution_count": null,
   "id": "7e54617f-0c9e-4220-b66c-93885d847050",
   "metadata": {},
   "outputs": [],
   "source": []
  }
 ],
 "metadata": {
  "kernelspec": {
   "display_name": "Python 3.9.16",
   "language": "python",
   "name": "python3"
  },
  "language_info": {
   "codemirror_mode": {
    "name": "ipython",
    "version": 3
   },
   "file_extension": ".py",
   "mimetype": "text/x-python",
   "name": "python",
   "nbconvert_exporter": "python",
   "pygments_lexer": "ipython3",
   "version": "3.9.16"
  }
 },
 "nbformat": 4,
 "nbformat_minor": 5
}
