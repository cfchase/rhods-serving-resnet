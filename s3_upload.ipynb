{
 "cells": [
  {
   "cell_type": "markdown",
   "id": "f8cc3417-6608-4b54-953b-c068844f66c7",
   "metadata": {},
   "source": [
    "# S3 Sample Upload"
   ]
  },
  {
   "cell_type": "code",
   "execution_count": null,
   "id": "7aa52c79-bf6a-44e3-826a-0e2c71d4dabe",
   "metadata": {},
   "outputs": [],
   "source": [
    "!wget https://github.com/onnx/models/raw/main/vision/classification/resnet/model/resnet50-caffe2-v1-9.onnx"
   ]
  },
  {
   "cell_type": "code",
   "execution_count": null,
   "id": "e116e9dd-ebe3-4f72-a982-5632fb9b5fbb",
   "metadata": {},
   "outputs": [],
   "source": [
    "import sys\n",
    "import os\n",
    "import boto3\n",
    "import botocore\n",
    "\n",
    "bucket_name = os.environ.get('AWS_S3_BUCKET')\n",
    "\n",
    "session = boto3.session.Session()\n",
    "s3_resource = session.resource('s3',config=botocore.client.Config(signature_version='s3v4'))\n",
    "bucket = s3_resource.Bucket(bucket_name)\n",
    "filter = bucket.objects.filter(Prefix='')\n",
    "file_list = filter.all()\n",
    "\n",
    "for obj in file_list:\n",
    "    print(obj.key)\n",
    "\n",
    "bucket.upload_file(\"resnet50-caffe2-v1-9.onnx\", \"resnet50-caffe2-v1-9.onnx\")\n",
    "\n",
    "for obj in file_list:\n",
    "    print(obj.key)\n"
   ]
  },
  {
   "cell_type": "code",
   "execution_count": null,
   "id": "aac99355-52bc-4b31-b993-98a0393d6fd1",
   "metadata": {},
   "outputs": [],
   "source": []
  }
 ],
 "metadata": {
  "kernelspec": {
   "display_name": "Python 3.9.16",
   "language": "python",
   "name": "python3"
  },
  "language_info": {
   "codemirror_mode": {
    "name": "ipython",
    "version": 3
   },
   "file_extension": ".py",
   "mimetype": "text/x-python",
   "name": "python",
   "nbconvert_exporter": "python",
   "pygments_lexer": "ipython3",
   "version": "3.9.16"
  }
 },
 "nbformat": 4,
 "nbformat_minor": 5
}
